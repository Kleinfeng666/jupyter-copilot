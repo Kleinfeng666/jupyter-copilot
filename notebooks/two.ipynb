{
 "cells": [
  {
   "cell_type": "code",
   "execution_count": null,
   "id": "c988cacf-cd46-452f-bceb-10fad34e3a03",
   "metadata": {},
   "outputs": [],
   "source": [
    "line 0 "
   ]
  },
  {
   "cell_type": "code",
   "execution_count": null,
   "id": "1e22ab5c-db3d-4afe-9957-a375b1b22465",
   "metadata": {},
   "outputs": [],
   "source": [
    "bananajjj"
   ]
  }
 ],
 "metadata": {
  "kernelspec": {
   "display_name": "pytorch",
   "language": "python",
   "name": "pytorch"
  },
  "language_info": {
   "codemirror_mode": {
    "name": "ipython",
    "version": 3
   },
   "file_extension": ".py",
   "mimetype": "text/x-python",
   "name": "python",
   "nbconvert_exporter": "python",
   "pygments_lexer": "ipython3",
   "version": "3.11.0"
  }
 },
 "nbformat": 4,
 "nbformat_minor": 5
}
