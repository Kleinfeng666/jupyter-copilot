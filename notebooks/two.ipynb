{
 "cells": [
  {
   "cell_type": "markdown",
   "id": "d5cfe763-7a5a-4c69-a4e3-138e4114e69d",
   "metadata": {},
   "source": [
    "# line 0 "
   ]
  },
  {
   "cell_type": "code",
   "execution_count": null,
   "id": "1e22ab5c-db3d-4afe-9957-a375b1b22465",
   "metadata": {},
   "outputs": [],
   "source": [
    "# write a poem\n",
    "print(\"I am a poet\")\n",
    "print(\"I know it\")\n",
    "print(\"I hope my code will show it\")\n",
    "print(\"And my words will flow it\")\n",
    "print(\"And my friends will like it\")\n",
    "print(\"hello \")\n",
    "\n",
    "import aadasdaa"
   ]
  }
 ],
 "metadata": {
  "kernelspec": {
   "display_name": "pytorch",
   "language": "python",
   "name": "pytorch"
  },
  "language_info": {
   "codemirror_mode": {
    "name": "ipython",
    "version": 3
   },
   "file_extension": ".py",
   "mimetype": "text/x-python",
   "name": "python",
   "nbconvert_exporter": "python",
   "pygments_lexer": "ipython3",
   "version": "3.11.0"
  }
 },
 "nbformat": 4,
 "nbformat_minor": 5
}
