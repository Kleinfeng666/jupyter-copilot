{
 "cells": [
  {
   "cell_type": "code",
   "execution_count": null,
   "id": "1fe215ac-0bd8-480c-92ca-e13c476e6137",
   "metadata": {},
   "outputs": [],
   "source": [
    "dsssssdfsdfsdfdsf"
   ]
  },
  {
   "cell_type": "code",
   "execution_count": null,
   "id": "7ae7264c-8533-48f0-81b1-b9f4b10589ce",
   "metadata": {},
   "outputs": [],
   "source": [
    "aaaaaa"
   ]
  },
  {
   "cell_type": "code",
   "execution_count": null,
   "id": "e199409e-0e88-444e-9f92-581ef7b3f87a",
   "metadata": {},
   "outputs": [],
   "source": [
    "hellofff"
   ]
  }
 ],
 "metadata": {
  "kernelspec": {
   "display_name": "Python 3 (ipykernel)",
   "language": "python",
   "name": "python3"
  },
  "language_info": {
   "codemirror_mode": {
    "name": "ipython",
    "version": 3
   },
   "file_extension": ".py",
   "mimetype": "text/x-python",
   "name": "python",
   "nbconvert_exporter": "python",
   "pygments_lexer": "ipython3",
   "version": "3.12.4"
  }
 },
 "nbformat": 4,
 "nbformat_minor": 5
}
