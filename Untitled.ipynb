{
 "cells": [
  {
   "cell_type": "code",
   "execution_count": null,
   "id": "838798e9-2735-4fc5-96a0-06094e427b11",
   "metadata": {},
   "outputs": [],
   "source": [
    "1"
   ]
  },
  {
   "cell_type": "code",
   "execution_count": null,
   "id": "8d6a7e45-d0d4-4509-a40b-dd64620ce831",
   "metadata": {},
   "outputs": [],
   "source": [
    "2"
   ]
  },
  {
   "cell_type": "code",
   "execution_count": null,
   "id": "a37b8777-1e72-46e3-aa4d-2a499c0597f5",
   "metadata": {},
   "outputs": [],
   "source": [
    "3"
   ]
  },
  {
   "cell_type": "code",
   "execution_count": null,
   "id": "cb8b42f5-1859-4666-8771-8caf5a6c6cd3",
   "metadata": {},
   "outputs": [],
   "source": [
    "4"
   ]
  },
  {
   "cell_type": "code",
   "execution_count": null,
   "id": "1b0a351a-cfde-4d82-9927-fb3c15d3f728",
   "metadata": {},
   "outputs": [],
   "source": [
    "7"
   ]
  },
  {
   "cell_type": "code",
   "execution_count": null,
   "id": "5e8a6609-20f8-496b-afb2-66f4afba591b",
   "metadata": {},
   "outputs": [],
   "source": [
    "5dddddddddddd"
   ]
  },
  {
   "cell_type": "code",
   "execution_count": null,
   "id": "0eef3870-e024-4cb1-8cea-3ca1b84bb1c1",
   "metadata": {},
   "outputs": [],
   "source": [
    "63"
   ]
  },
  {
   "cell_type": "markdown",
   "id": "6bbe7376-2514-4b92-b634-0d8bd1e6153d",
   "metadata": {},
   "source": [
    "ok so is this like super awesome or wha t"
   ]
  }
 ],
 "metadata": {
  "kernelspec": {
   "display_name": "Python 3 (ipykernel)",
   "language": "python",
   "name": "python3"
  },
  "language_info": {
   "codemirror_mode": {
    "name": "ipython",
    "version": 3
   },
   "file_extension": ".py",
   "mimetype": "text/x-python",
   "name": "python",
   "nbconvert_exporter": "python",
   "pygments_lexer": "ipython3",
   "version": "3.12.4"
  }
 },
 "nbformat": 4,
 "nbformat_minor": 5
}
