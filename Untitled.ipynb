{
 "cells": [
  {
   "cell_type": "code",
   "execution_count": null,
   "id": "9227c9f6-0ef7-44cb-a2f2-3fda9048cb17",
   "metadata": {},
   "outputs": [],
   "source": [
    "minecraft"
   ]
  },
  {
   "cell_type": "code",
   "execution_count": null,
   "id": "532a3fb1-5c3e-4000-9a70-58d1bb3e6fc7",
   "metadata": {},
   "outputs": [],
   "source": [
    "fortnite skibididd"
   ]
  },
  {
   "cell_type": "code",
   "execution_count": null,
   "id": "fb7037bf-07a1-4438-b1b2-2d244c5cea10",
   "metadata": {},
   "outputs": [],
   "source": [
    "afdfadfd"
   ]
  },
  {
   "cell_type": "code",
   "execution_count": null,
   "id": "b5fc83d3-8f22-44c3-80c4-1c3354e58435",
   "metadata": {},
   "outputs": [],
   "source": [
    "adfafg"
   ]
  },
  {
   "cell_type": "code",
   "execution_count": null,
   "id": "671a0d93-6a48-4b13-a292-a3df69c6e35c",
   "metadata": {},
   "outputs": [],
   "source": [
    "dddddddd"
   ]
  }
 ],
 "metadata": {
  "kernelspec": {
   "display_name": "Python 3 (ipykernel)",
   "language": "python",
   "name": "python3"
  },
  "language_info": {
   "codemirror_mode": {
    "name": "ipython",
    "version": 3
   },
   "file_extension": ".py",
   "mimetype": "text/x-python",
   "name": "python",
   "nbconvert_exporter": "python",
   "pygments_lexer": "ipython3",
   "version": "3.12.4"
  }
 },
 "nbformat": 4,
 "nbformat_minor": 5
}
